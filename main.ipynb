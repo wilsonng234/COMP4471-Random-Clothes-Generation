{
 "cells": [
  {
   "cell_type": "markdown",
   "metadata": {},
   "source": [
    "# Data Preprocessing"
   ]
  },
  {
   "cell_type": "code",
   "execution_count": null,
   "metadata": {},
   "outputs": [],
    },
    {
   "source": [
    "from utils.dataset_util import remove_background    \n",
    "from utils.dataset_util import combine_edges\n",
    "from utils.dataset_util import train_valid_test_split\n",
    "\n",
    "remove_background(\"datasets/images\", \"datasets/images_without_bg\")\n",
    "combine_edges(\"datasets/images_without_bg\", \"datasets/combined_images\")\n",
    "train_valid_test_split(\"datasets/combined_images\")\n"
   ]
  },
  {
   "cell_type": "markdown",
   "metadata": {},
   "source": [
    "# Train Model"
   ]
  },
  {
   "cell_type": "code",
   "execution_count": null,
   "metadata": {},
   "outputs": [
    {
     "name": "stderr",
     "output_type": "stream",
     "text": [
      "100%|██████████| 3/3 [00:15<00:00,  5.29s/it]\n",
      "100%|██████████| 3/3 [00:07<00:00,  2.49s/it]\n",
      "100%|██████████| 3/3 [00:11<00:00,  3.89s/it]\n",
      "100%|██████████| 3/3 [00:06<00:00,  2.31s/it]\n",
      "100%|██████████| 3/3 [00:06<00:00,  2.24s/it]\n"
   "source": [
    "from model.pix2pix.model import Pix2Pix\n",
    "model = Pix2Pix()\n",
    "model.train()\n"
   ]
  },
  {
   "cell_type": "code",
   "execution_count": null,
   "metadata": {},
   "outputs": [],
   "source": []
  }
 ],
 "metadata": {
  "kernelspec": {
   "display_name": "comp4471",
   "language": "python",
   "name": "python3"
  },
  "language_info": {
   "codemirror_mode": {
    "name": "ipython",
    "version": 3
   },
   "file_extension": ".py",
   "mimetype": "text/x-python",
   "name": "python",
   "nbconvert_exporter": "python",
   "pygments_lexer": "ipython3",
   "version": "3.10.9"
  },
  "orig_nbformat": 4,
  "vscode": {
   "interpreter": {
    "hash": "6617eae6545282898ad474b4d433343578de8933539fdf506bb21bfb65d2ebfa"
   }
  }
 },
 "nbformat": 4,
 "nbformat_minor": 2
}
